{
  "nbformat": 4,
  "nbformat_minor": 0,
  "metadata": {
    "colab": {
      "provenance": [],
      "authorship_tag": "ABX9TyOZLVEIx4/55Mx0FmsGaXTJ",
      "include_colab_link": true
    },
    "kernelspec": {
      "name": "python3",
      "display_name": "Python 3"
    },
    "language_info": {
      "name": "python"
    }
  },
  "cells": [
    {
      "cell_type": "markdown",
      "metadata": {
        "id": "view-in-github",
        "colab_type": "text"
      },
      "source": [
        "<a href=\"https://colab.research.google.com/github/kisilelja/python_9_home_work/blob/main/Home_work9.ipynb\" target=\"_parent\"><img src=\"https://colab.research.google.com/assets/colab-badge.svg\" alt=\"Open In Colab\"/></a>"
      ]
    },
    {
      "cell_type": "markdown",
      "source": [
        "**Работать с файлом california_housing_train.csv, который находится в папке sample_data. Определить среднюю стоимость дома, где кол-во людей от 0 до 500 (population)**"
      ],
      "metadata": {
        "id": "Y14lKdwUVEYj"
      }
    },
    {
      "cell_type": "code",
      "execution_count": 2,
      "metadata": {
        "colab": {
          "base_uri": "https://localhost:8080/"
        },
        "id": "JFrbj_eLUsn6",
        "outputId": "aabb05ff-eb21-4b1d-b781-355bffcefc66"
      },
      "outputs": [
        {
          "output_type": "execute_result",
          "data": {
            "text/plain": [
              "206683.83635227982"
            ]
          },
          "metadata": {},
          "execution_count": 2
        }
      ],
      "source": [
        "import pandas as pd\n",
        "\n",
        "df=pd.read_csv('sample_data/california_housing_train.csv')\n",
        "\n",
        "df[(df['population'] > 0) & (df['population'] < 500)].median_house_value.mean()"
      ]
    },
    {
      "cell_type": "markdown",
      "source": [
        "**Узнать какая максимальная households в зоне минимального значения population**"
      ],
      "metadata": {
        "id": "CyvNe18iV4_P"
      }
    },
    {
      "cell_type": "code",
      "source": [
        "df[df['population'] == df.population.min()].households.max()"
      ],
      "metadata": {
        "colab": {
          "base_uri": "https://localhost:8080/"
        },
        "id": "JwPIQA97WEpG",
        "outputId": "2a6e2c34-b465-450f-9b1f-cd190a6f72b5"
      },
      "execution_count": 3,
      "outputs": [
        {
          "output_type": "execute_result",
          "data": {
            "text/plain": [
              "4.0"
            ]
          },
          "metadata": {},
          "execution_count": 3
        }
      ]
    }
  ]
}